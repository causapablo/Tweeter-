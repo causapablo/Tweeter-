{
 "cells": [
  {
   "cell_type": "code",
   "execution_count": 2,
   "metadata": {},
   "outputs": [],
   "source": [
    "collection = \"tweets_hayotrocamino\""
   ]
  },
  {
   "cell_type": "code",
   "execution_count": 1,
   "metadata": {
    "colab": {
     "autoexec": {
      "startup": false,
      "wait_interval": 0
     }
    },
    "colab_type": "code",
    "id": "xILzsBEsKl-R"
   },
   "outputs": [],
   "source": [
    "import pandas as pd\n",
    "\n",
    "%matplotlib inline\n",
    "\n",
    "pd.set_option('display.max_colwidth', -1)\n",
    "pd.set_option('display.max_rows', 999)\n",
    "import warnings\n",
    "warnings.filterwarnings(\"ignore\")"
   ]
  },
  {
   "cell_type": "code",
   "execution_count": 2,
   "metadata": {},
   "outputs": [],
   "source": [
    "# Modifique el path de acceso.\n",
    "tweets = pd.read_csv(r'C:\\Users\\causa\\Desktop\\Data Science\\Data Science Projects\\Sentiment Analysis-Celayes\\tweets_hayotrocamino_tweets.csv' )"
   ]
  },
  {
   "cell_type": "code",
   "execution_count": 51,
   "metadata": {},
   "outputs": [],
   "source": [
    "# Esta es una función que hice para sacar algunos caracteres.\n",
    "def remove_character(df,column,char):\n",
    "    for i in range(len(df)):\n",
    "        if char in df[column][i]:\n",
    "            df[column][i] = df[column][i].replace(char,'')\n"
   ]
  },
  {
   "cell_type": "code",
   "execution_count": 3,
   "metadata": {
    "colab": {
     "autoexec": {
      "startup": false,
      "wait_interval": 0
     }
    },
    "colab_type": "code",
    "id": "DQtQl17lpt0T"
   },
   "outputs": [],
   "source": [
    "tweets['created_at'] = pd.to_datetime(tweets['created_at'],\n",
    "                                      format=\"%a %b %d %H:%M:%S +0000 %Y\")"
   ]
  },
  {
   "cell_type": "markdown",
   "metadata": {},
   "source": [
    "# Total de tuits"
   ]
  },
  {
   "cell_type": "code",
   "execution_count": 4,
   "metadata": {},
   "outputs": [
    {
     "data": {
      "text/plain": [
       "223973"
      ]
     },
     "execution_count": 4,
     "metadata": {},
     "output_type": "execute_result"
    }
   ],
   "source": [
    "# Numero de instancias del dataset original.\n",
    "initial_entries = len(tweets)\n",
    "initial_entries"
   ]
  },
  {
   "cell_type": "markdown",
   "metadata": {},
   "source": [
    "# Columnas"
   ]
  },
  {
   "cell_type": "code",
   "execution_count": 6,
   "metadata": {},
   "outputs": [
    {
     "data": {
      "text/html": [
       "<div>\n",
       "<style scoped>\n",
       "    .dataframe tbody tr th:only-of-type {\n",
       "        vertical-align: middle;\n",
       "    }\n",
       "\n",
       "    .dataframe tbody tr th {\n",
       "        vertical-align: top;\n",
       "    }\n",
       "\n",
       "    .dataframe thead th {\n",
       "        text-align: right;\n",
       "    }\n",
       "</style>\n",
       "<table border=\"1\" class=\"dataframe\">\n",
       "  <thead>\n",
       "    <tr style=\"text-align: right;\">\n",
       "      <th></th>\n",
       "      <th>0</th>\n",
       "    </tr>\n",
       "  </thead>\n",
       "  <tbody>\n",
       "    <tr>\n",
       "      <th>0</th>\n",
       "      <td>id</td>\n",
       "    </tr>\n",
       "    <tr>\n",
       "      <th>1</th>\n",
       "      <td>created_at</td>\n",
       "    </tr>\n",
       "    <tr>\n",
       "      <th>2</th>\n",
       "      <td>text</td>\n",
       "    </tr>\n",
       "    <tr>\n",
       "      <th>3</th>\n",
       "      <td>favorited</td>\n",
       "    </tr>\n",
       "    <tr>\n",
       "      <th>4</th>\n",
       "      <td>retweeted</td>\n",
       "    </tr>\n",
       "    <tr>\n",
       "      <th>5</th>\n",
       "      <td>user_name</td>\n",
       "    </tr>\n",
       "    <tr>\n",
       "      <th>6</th>\n",
       "      <td>user_id</td>\n",
       "    </tr>\n",
       "    <tr>\n",
       "      <th>7</th>\n",
       "      <td>mentions</td>\n",
       "    </tr>\n",
       "    <tr>\n",
       "      <th>8</th>\n",
       "      <td>hts</td>\n",
       "    </tr>\n",
       "    <tr>\n",
       "      <th>9</th>\n",
       "      <td>original_id</td>\n",
       "    </tr>\n",
       "    <tr>\n",
       "      <th>10</th>\n",
       "      <td>full_text</td>\n",
       "    </tr>\n",
       "    <tr>\n",
       "      <th>11</th>\n",
       "      <td>favorite_count</td>\n",
       "    </tr>\n",
       "    <tr>\n",
       "      <th>12</th>\n",
       "      <td>retweet_count</td>\n",
       "    </tr>\n",
       "  </tbody>\n",
       "</table>\n",
       "</div>"
      ],
      "text/plain": [
       "                 0\n",
       "0   id            \n",
       "1   created_at    \n",
       "2   text          \n",
       "3   favorited     \n",
       "4   retweeted     \n",
       "5   user_name     \n",
       "6   user_id       \n",
       "7   mentions      \n",
       "8   hts           \n",
       "9   original_id   \n",
       "10  full_text     \n",
       "11  favorite_count\n",
       "12  retweet_count "
      ]
     },
     "execution_count": 6,
     "metadata": {},
     "output_type": "execute_result"
    }
   ],
   "source": [
    "pd.DataFrame(tweets.columns)"
   ]
  },
  {
   "cell_type": "markdown",
   "metadata": {},
   "source": [
    "# Algunos ejemplos"
   ]
  },
  {
   "cell_type": "code",
   "execution_count": 7,
   "metadata": {},
   "outputs": [
    {
     "data": {
      "text/html": [
       "<div>\n",
       "<style scoped>\n",
       "    .dataframe tbody tr th:only-of-type {\n",
       "        vertical-align: middle;\n",
       "    }\n",
       "\n",
       "    .dataframe tbody tr th {\n",
       "        vertical-align: top;\n",
       "    }\n",
       "\n",
       "    .dataframe thead th {\n",
       "        text-align: right;\n",
       "    }\n",
       "</style>\n",
       "<table border=\"1\" class=\"dataframe\">\n",
       "  <thead>\n",
       "    <tr style=\"text-align: right;\">\n",
       "      <th></th>\n",
       "      <th>id</th>\n",
       "      <th>created_at</th>\n",
       "      <th>text</th>\n",
       "      <th>favorited</th>\n",
       "      <th>retweeted</th>\n",
       "      <th>user_name</th>\n",
       "      <th>user_id</th>\n",
       "      <th>mentions</th>\n",
       "      <th>hts</th>\n",
       "      <th>original_id</th>\n",
       "      <th>full_text</th>\n",
       "      <th>favorite_count</th>\n",
       "      <th>retweet_count</th>\n",
       "    </tr>\n",
       "  </thead>\n",
       "  <tbody>\n",
       "    <tr>\n",
       "      <th>0</th>\n",
       "      <td>1101341840090021888</td>\n",
       "      <td>2019-03-01 04:42:11</td>\n",
       "      <td>RT @LanusUCiudadana: Este Viernes 1° de Marzo salimos a la calle con mesas de difusión en el marco de la Jornada #CristinaEsPueblo   Seguim…</td>\n",
       "      <td>False</td>\n",
       "      <td>False</td>\n",
       "      <td>silvia coceres</td>\n",
       "      <td>2337452678</td>\n",
       "      <td>LanusUCiudadana</td>\n",
       "      <td>CristinaEsPueblo</td>\n",
       "      <td>1101302297324384256</td>\n",
       "      <td>Este Viernes 1° de Marzo salimos a la calle con mesas de difusión en el marco de la Jornada #CristinaEsPueblo   Seguimos organizándonos para recuperar la Nación, la Provincia y nuestro distrito de #Lanús de la mano de @CFKArgentina   #HayOtroCamino Sumate! 👇🏼  #LanúsSomosTodxs https://t.co/l0tycUfqHY</td>\n",
       "      <td>23</td>\n",
       "      <td>14</td>\n",
       "    </tr>\n",
       "    <tr>\n",
       "      <th>1</th>\n",
       "      <td>1101343224889835522</td>\n",
       "      <td>2019-03-01 04:47:41</td>\n",
       "      <td>RT @UniCiudadanaAR: #HaganAlgo ¿Qué le pedirías al gobierno que haga para frenar la crisis económica?   #HayOtroCamino</td>\n",
       "      <td>False</td>\n",
       "      <td>False</td>\n",
       "      <td>alberto parmigiano</td>\n",
       "      <td>1270472840</td>\n",
       "      <td>UniCiudadanaAR</td>\n",
       "      <td>HaganAlgo HayOtroCamino</td>\n",
       "      <td>1100514185216180225</td>\n",
       "      <td>#HaganAlgo ¿Qué le pedirías al gobierno que haga para frenar la crisis económica?   #HayOtroCamino</td>\n",
       "      <td>805</td>\n",
       "      <td>340</td>\n",
       "    </tr>\n",
       "    <tr>\n",
       "      <th>2</th>\n",
       "      <td>1101343299686854657</td>\n",
       "      <td>2019-03-01 04:47:59</td>\n",
       "      <td>Pero la candidata a diputada por Sta Fé Amalia Granata sostiene que fué CFK la que aumentó el número de pobres  😤😤</td>\n",
       "      <td>False</td>\n",
       "      <td>False</td>\n",
       "      <td>La Fonde</td>\n",
       "      <td>3302398083</td>\n",
       "      <td>NaN</td>\n",
       "      <td>NaN</td>\n",
       "      <td>1101343299686854657</td>\n",
       "      <td>Pero la candidata a diputada por Sta Fé Amalia Granata sostiene que fué CFK la que aumentó el número de pobres  😤😤</td>\n",
       "      <td>0</td>\n",
       "      <td>0</td>\n",
       "    </tr>\n",
       "    <tr>\n",
       "      <th>3</th>\n",
       "      <td>1101344190456385536</td>\n",
       "      <td>2019-03-01 04:51:31</td>\n",
       "      <td>RT @FerIglesias: Clarooo, Fer. Lo que no funcionó con la soja a 600 y las tasas de la FED a 0,25%, con la soja a 340 y las tasas a 2,5% no…</td>\n",
       "      <td>False</td>\n",
       "      <td>False</td>\n",
       "      <td>Lula Nomerompaslasbolas</td>\n",
       "      <td>2259370703</td>\n",
       "      <td>FerIglesias</td>\n",
       "      <td>NaN</td>\n",
       "      <td>1101280243485163520</td>\n",
       "      <td>Clarooo, Fer. Lo que no funcionó con la soja a 600 y las tasas de la FED a 0,25%, con la soja a 340 y las tasas a 2,5% no puede fallar! https://t.co/VyAVyxF9BA</td>\n",
       "      <td>474</td>\n",
       "      <td>165</td>\n",
       "    </tr>\n",
       "    <tr>\n",
       "      <th>4</th>\n",
       "      <td>1101344538503856128</td>\n",
       "      <td>2019-03-01 04:52:54</td>\n",
       "      <td>Espinoza, durante todo el peronismo fuimos un asco de país. Están en La Matanza hace décadas y es el peor municipio… https://t.co/PLor5R7Wzr</td>\n",
       "      <td>False</td>\n",
       "      <td>False</td>\n",
       "      <td>Mateo J.</td>\n",
       "      <td>175564792</td>\n",
       "      <td>NaN</td>\n",
       "      <td>NaN</td>\n",
       "      <td>1101344538503856128</td>\n",
       "      <td>Espinoza, durante todo el peronismo fuimos un asco de país. Están en La Matanza hace décadas y es el peor municipio de la provincia. Las provincias del norte, gobernadas por peronistas, son las peores del país. Sus propuestas lo único que garantizan es decadencia. Ladrones.</td>\n",
       "      <td>0</td>\n",
       "      <td>0</td>\n",
       "    </tr>\n",
       "  </tbody>\n",
       "</table>\n",
       "</div>"
      ],
      "text/plain": [
       "                    id          created_at  \\\n",
       "0  1101341840090021888 2019-03-01 04:42:11   \n",
       "1  1101343224889835522 2019-03-01 04:47:41   \n",
       "2  1101343299686854657 2019-03-01 04:47:59   \n",
       "3  1101344190456385536 2019-03-01 04:51:31   \n",
       "4  1101344538503856128 2019-03-01 04:52:54   \n",
       "\n",
       "                                                                                                                                           text  \\\n",
       "0  RT @LanusUCiudadana: Este Viernes 1° de Marzo salimos a la calle con mesas de difusión en el marco de la Jornada #CristinaEsPueblo   Seguim…   \n",
       "1  RT @UniCiudadanaAR: #HaganAlgo ¿Qué le pedirías al gobierno que haga para frenar la crisis económica?   #HayOtroCamino                         \n",
       "2  Pero la candidata a diputada por Sta Fé Amalia Granata sostiene que fué CFK la que aumentó el número de pobres  😤😤                             \n",
       "3  RT @FerIglesias: Clarooo, Fer. Lo que no funcionó con la soja a 600 y las tasas de la FED a 0,25%, con la soja a 340 y las tasas a 2,5% no…    \n",
       "4  Espinoza, durante todo el peronismo fuimos un asco de país. Están en La Matanza hace décadas y es el peor municipio… https://t.co/PLor5R7Wzr   \n",
       "\n",
       "   favorited  retweeted                user_name     user_id         mentions  \\\n",
       "0  False      False      silvia coceres           2337452678  LanusUCiudadana   \n",
       "1  False      False      alberto parmigiano       1270472840  UniCiudadanaAR    \n",
       "2  False      False      La Fonde                 3302398083  NaN               \n",
       "3  False      False      Lula Nomerompaslasbolas  2259370703  FerIglesias       \n",
       "4  False      False      Mateo J.                 175564792   NaN               \n",
       "\n",
       "                       hts          original_id  \\\n",
       "0  CristinaEsPueblo         1101302297324384256   \n",
       "1  HaganAlgo HayOtroCamino  1100514185216180225   \n",
       "2  NaN                      1101343299686854657   \n",
       "3  NaN                      1101280243485163520   \n",
       "4  NaN                      1101344538503856128   \n",
       "\n",
       "                                                                                                                                                                                                                                                                                                       full_text  \\\n",
       "0  Este Viernes 1° de Marzo salimos a la calle con mesas de difusión en el marco de la Jornada #CristinaEsPueblo   Seguimos organizándonos para recuperar la Nación, la Provincia y nuestro distrito de #Lanús de la mano de @CFKArgentina   #HayOtroCamino Sumate! 👇🏼  #LanúsSomosTodxs https://t.co/l0tycUfqHY   \n",
       "1  #HaganAlgo ¿Qué le pedirías al gobierno que haga para frenar la crisis económica?   #HayOtroCamino                                                                                                                                                                                                              \n",
       "2  Pero la candidata a diputada por Sta Fé Amalia Granata sostiene que fué CFK la que aumentó el número de pobres  😤😤                                                                                                                                                                                              \n",
       "3  Clarooo, Fer. Lo que no funcionó con la soja a 600 y las tasas de la FED a 0,25%, con la soja a 340 y las tasas a 2,5% no puede fallar! https://t.co/VyAVyxF9BA                                                                                                                                                 \n",
       "4  Espinoza, durante todo el peronismo fuimos un asco de país. Están en La Matanza hace décadas y es el peor municipio de la provincia. Las provincias del norte, gobernadas por peronistas, son las peores del país. Sus propuestas lo único que garantizan es decadencia. Ladrones.                              \n",
       "\n",
       "   favorite_count  retweet_count  \n",
       "0  23              14             \n",
       "1  805             340            \n",
       "2  0               0              \n",
       "3  474             165            \n",
       "4  0               0              "
      ]
     },
     "execution_count": 7,
     "metadata": {},
     "output_type": "execute_result"
    }
   ],
   "source": [
    "tweets.head(5)"
   ]
  },
  {
   "cell_type": "markdown",
   "metadata": {},
   "source": [
    "# Volumen de tuits por hora"
   ]
  },
  {
   "cell_type": "code",
   "execution_count": 17,
   "metadata": {},
   "outputs": [],
   "source": [
    "# TODO: mostrar más ticks de hora en el eje x"
   ]
  },
  {
   "cell_type": "code",
   "execution_count": 31,
   "metadata": {},
   "outputs": [
    {
     "data": {
      "text/plain": [
       "<matplotlib.axes._subplots.AxesSubplot at 0x13d7223e9b0>"
      ]
     },
     "execution_count": 31,
     "metadata": {},
     "output_type": "execute_result"
    },
    {
     "data": {
      "image/png": "[encoded data removed]",
      "text/plain": [
       "<Figure size 1080x432 with 1 Axes>"
      ]
     },
     "metadata": {
      "needs_background": "light"
     },
     "output_type": "display_data"
    }
   ],
   "source": [
    "tweets[\"dia_hora\"] = tweets.created_at.dt.strftime(\"%h-%d %H:00\") #la columna \"dia_hora\" deberia alojar un string, objeto. \n",
    "gb = tweets.groupby(tweets.dia_hora)[\"dia_hora\"].count() \n",
    "# Cada tweet tiene asociado un \"dia_hora\", asi que cuanto contamos cuantos valores unicos de \"dia_hora\"\n",
    "# Obtenemos el nro de tweets por hora, aquí Pablo Celayes lo llama  \"Volumen de tuits por hora\"\n",
    "# Se puede entender como la densidad de tuits por hora, cuantos tweets por hora hay. \n",
    "gb.plot(figsize=(15,6), fontsize=8)"
   ]
  },
  {
   "cell_type": "code",
   "execution_count": null,
   "metadata": {},
   "outputs": [],
   "source": []
  },
  {
   "cell_type": "markdown",
   "metadata": {
    "colab_type": "text",
    "id": "Ye2nz6o5pt0r"
   },
   "source": [
    "# Tuits más retuiteados"
   ]
  },
  {
   "cell_type": "code",
   "execution_count": 32,
   "metadata": {},
   "outputs": [
    {
     "data": {
      "text/html": [
       "<div>\n",
       "<style scoped>\n",
       "    .dataframe tbody tr th:only-of-type {\n",
       "        vertical-align: middle;\n",
       "    }\n",
       "\n",
       "    .dataframe tbody tr th {\n",
       "        vertical-align: top;\n",
       "    }\n",
       "\n",
       "    .dataframe thead th {\n",
       "        text-align: right;\n",
       "    }\n",
       "</style>\n",
       "<table border=\"1\" class=\"dataframe\">\n",
       "  <thead>\n",
       "    <tr style=\"text-align: right;\">\n",
       "      <th></th>\n",
       "      <th>original_id</th>\n",
       "      <th>full_text</th>\n",
       "      <th>favorite_count</th>\n",
       "      <th>retweet_count</th>\n",
       "    </tr>\n",
       "  </thead>\n",
       "  <tbody>\n",
       "    <tr>\n",
       "      <th>104991</th>\n",
       "      <td>1098049251836391424</td>\n",
       "      <td>charlotte caniggia que se limpia el orto con dólares se dio cuenta y vos que pagas la luz en cuotas no https://t.co/WykH3ezo9g</td>\n",
       "      <td>58684</td>\n",
       "      <td>20224</td>\n",
       "    </tr>\n",
       "    <tr>\n",
       "      <th>189501</th>\n",
       "      <td>1039476200811446274</td>\n",
       "      <td>Hilo de frases de Macri que se pueden usar para cortar una relación:</td>\n",
       "      <td>40493</td>\n",
       "      <td>15900</td>\n",
       "    </tr>\n",
       "    <tr>\n",
       "      <th>2034</th>\n",
       "      <td>1100728869445922816</td>\n",
       "      <td>¿Cómo es posible que los socios de Sánchez, los de Podemos, vengan al Congreso con camisetas de “Yo con Maduro”? ¿Es que no tienen corazón? ¿No ven cómo está masacrando Maduro al pueblo venezolano?   Yo estoy con Venezuela, la democracia y la libertad 🇻🇪👇🏻 https://t.co/bocqWJR3jG</td>\n",
       "      <td>21362</td>\n",
       "      <td>13861</td>\n",
       "    </tr>\n",
       "    <tr>\n",
       "      <th>160102</th>\n",
       "      <td>973190348435533824</td>\n",
       "      <td>padres hace 10 años: TENÉ CUIDADO CON QUIEN CHATEÁS NO CREAS TODO LO QUE TE DICE LA INTERNET padres hoy: y viste que en realidad macri y cristina son amantes lo leí ayer jaja</td>\n",
       "      <td>43193</td>\n",
       "      <td>11595</td>\n",
       "    </tr>\n",
       "    <tr>\n",
       "      <th>194843</th>\n",
       "      <td>1068648026389004289</td>\n",
       "      <td>Macri se emocionó. Yo también. Ésta imagen no se borrará más de los ojos de los argentinos de bien. El mundo entero gritando: \"Argentina, Argentina\", en el Teatro Colón. Si se lo perdieron, vean ésto por favor. Gracias Argentina 🇦🇷👇 https://t.co/KUyFKnszOn</td>\n",
       "      <td>31293</td>\n",
       "      <td>10042</td>\n",
       "    </tr>\n",
       "    <tr>\n",
       "      <th>191839</th>\n",
       "      <td>598170504831307776</td>\n",
       "      <td>3 de junio. Plaza Congreso. Basta de femicidios. #NiUnaMenos http://t.co/zQSz1ti3C7</td>\n",
       "      <td>4870</td>\n",
       "      <td>9045</td>\n",
       "    </tr>\n",
       "    <tr>\n",
       "      <th>147745</th>\n",
       "      <td>1036069043520909314</td>\n",
       "      <td>#URGENTE Macri echa a Lopetegui y Quintana, hombres de Marcos Peña, y también elimina ministerios: Ciencia y Tecnología, Cultura, Energía, Agroindustria, Salud, Turismo, Ambiente, Trabajo y Modernización.  Un desguace del Estado nunca antes visto. Lamentable por donde se lo mire.</td>\n",
       "      <td>11010</td>\n",
       "      <td>8688</td>\n",
       "    </tr>\n",
       "    <tr>\n",
       "      <th>190238</th>\n",
       "      <td>1069407274043621376</td>\n",
       "      <td>Gente, agradecería si me ayudan a compartir esta investigación que hicimos en @eldestapeweb y que debería ser un escándalo nacional.  El hermano de Macri recibió USD5.000.000 de la sospechosa empresa que ganó 6 parques eólicos revelado por @Emiliadelfino  https://t.co/aEX8QFiFJW</td>\n",
       "      <td>6345</td>\n",
       "      <td>8273</td>\n",
       "    </tr>\n",
       "    <tr>\n",
       "      <th>218222</th>\n",
       "      <td>1092942954384236544</td>\n",
       "      <td>si ustedes votaron al pelotudo de macri por qué yo no puedo votar al más pijudo https://t.co/eudzh1PmP4</td>\n",
       "      <td>26059</td>\n",
       "      <td>7874</td>\n",
       "    </tr>\n",
       "    <tr>\n",
       "      <th>107592</th>\n",
       "      <td>1035280236320120837</td>\n",
       "      <td>No fue solo Macri. Hay otros responsables del hambre del pueblo: Lanata, Leuco, Majul, Del Moro y tantos que llenaron al pueblo de odio, hablando solo de Cristina y escondiendo el saqueo. Los hicieron votar a su victimario. Ahora quieren abrirse. son despreciables</td>\n",
       "      <td>12977</td>\n",
       "      <td>7535</td>\n",
       "    </tr>\n",
       "  </tbody>\n",
       "</table>\n",
       "</div>"
      ],
      "text/plain": [
       "                original_id  \\\n",
       "104991  1098049251836391424   \n",
       "189501  1039476200811446274   \n",
       "2034    1100728869445922816   \n",
       "160102  973190348435533824    \n",
       "194843  1068648026389004289   \n",
       "191839  598170504831307776    \n",
       "147745  1036069043520909314   \n",
       "190238  1069407274043621376   \n",
       "218222  1092942954384236544   \n",
       "107592  1035280236320120837   \n",
       "\n",
       "                                                                                                                                                                                                                                                                                       full_text  \\\n",
       "104991  charlotte caniggia que se limpia el orto con dólares se dio cuenta y vos que pagas la luz en cuotas no https://t.co/WykH3ezo9g                                                                                                                                                             \n",
       "189501  Hilo de frases de Macri que se pueden usar para cortar una relación:                                                                                                                                                                                                                       \n",
       "2034    ¿Cómo es posible que los socios de Sánchez, los de Podemos, vengan al Congreso con camisetas de “Yo con Maduro”? ¿Es que no tienen corazón? ¿No ven cómo está masacrando Maduro al pueblo venezolano?   Yo estoy con Venezuela, la democracia y la libertad 🇻🇪👇🏻 https://t.co/bocqWJR3jG   \n",
       "160102  padres hace 10 años: TENÉ CUIDADO CON QUIEN CHATEÁS NO CREAS TODO LO QUE TE DICE LA INTERNET padres hoy: y viste que en realidad macri y cristina son amantes lo leí ayer jaja                                                                                                             \n",
       "194843  Macri se emocionó. Yo también. Ésta imagen no se borrará más de los ojos de los argentinos de bien. El mundo entero gritando: \"Argentina, Argentina\", en el Teatro Colón. Si se lo perdieron, vean ésto por favor. Gracias Argentina 🇦🇷👇 https://t.co/KUyFKnszOn                           \n",
       "191839  3 de junio. Plaza Congreso. Basta de femicidios. #NiUnaMenos http://t.co/zQSz1ti3C7                                                                                                                                                                                                        \n",
       "147745  #URGENTE Macri echa a Lopetegui y Quintana, hombres de Marcos Peña, y también elimina ministerios: Ciencia y Tecnología, Cultura, Energía, Agroindustria, Salud, Turismo, Ambiente, Trabajo y Modernización.  Un desguace del Estado nunca antes visto. Lamentable por donde se lo mire.   \n",
       "190238  Gente, agradecería si me ayudan a compartir esta investigación que hicimos en @eldestapeweb y que debería ser un escándalo nacional.  El hermano de Macri recibió USD5.000.000 de la sospechosa empresa que ganó 6 parques eólicos revelado por @Emiliadelfino  https://t.co/aEX8QFiFJW    \n",
       "218222  si ustedes votaron al pelotudo de macri por qué yo no puedo votar al más pijudo https://t.co/eudzh1PmP4                                                                                                                                                                                    \n",
       "107592  No fue solo Macri. Hay otros responsables del hambre del pueblo: Lanata, Leuco, Majul, Del Moro y tantos que llenaron al pueblo de odio, hablando solo de Cristina y escondiendo el saqueo. Los hicieron votar a su victimario. Ahora quieren abrirse. son despreciables                   \n",
       "\n",
       "        favorite_count  retweet_count  \n",
       "104991  58684           20224          \n",
       "189501  40493           15900          \n",
       "2034    21362           13861          \n",
       "160102  43193           11595          \n",
       "194843  31293           10042          \n",
       "191839  4870            9045           \n",
       "147745  11010           8688           \n",
       "190238  6345            8273           \n",
       "218222  26059           7874           \n",
       "107592  12977           7535           "
      ]
     },
     "execution_count": 32,
     "metadata": {},
     "output_type": "execute_result"
    }
   ],
   "source": [
    "idx = tweets.groupby(['original_id'])['retweet_count'].transform(max) == tweets['retweet_count'] #Este objecto es una serie booleana.\n",
    "tweets[idx][['original_id', 'full_text', 'favorite_count', 'retweet_count']].sort_values(by='retweet_count', ascending=False).head(10)"
   ]
  },
  {
   "cell_type": "markdown",
   "metadata": {},
   "source": [
    "# Tuits más faveados"
   ]
  },
  {
   "cell_type": "code",
   "execution_count": 33,
   "metadata": {},
   "outputs": [],
   "source": [
    "# TODO: evitar duplicados (por ej: el 9 y el 10)\n",
    "# Aplicar misma solución a más retuiteados\n",
    "tweets.loc[tweets.text.duplicated(keep=\"first\"),:];"
   ]
  },
  {
   "cell_type": "code",
   "execution_count": 34,
   "metadata": {},
   "outputs": [],
   "source": [
    "tweets.drop_duplicates(subset=['text'],keep=\"first\",inplace=True)"
   ]
  },
  {
   "cell_type": "code",
   "execution_count": 35,
   "metadata": {},
   "outputs": [
    {
     "data": {
      "text/plain": [
       "71443"
      ]
     },
     "execution_count": 35,
     "metadata": {},
     "output_type": "execute_result"
    }
   ],
   "source": [
    "final_entries=len(tweets)\n",
    "final_entries"
   ]
  },
  {
   "cell_type": "code",
   "execution_count": 36,
   "metadata": {},
   "outputs": [
    {
     "name": "stdout",
     "output_type": "stream",
     "text": [
      "From the original DataFrame were removed: 152530\n"
     ]
    }
   ],
   "source": [
    "removed_entries=abs(final_entries-initial_entries)\n",
    "print(\"From the original DataFrame were removed: {}\".format(removed_entries))"
   ]
  },
  {
   "cell_type": "code",
   "execution_count": 37,
   "metadata": {},
   "outputs": [
    {
     "data": {
      "text/html": [
       "<div>\n",
       "<style scoped>\n",
       "    .dataframe tbody tr th:only-of-type {\n",
       "        vertical-align: middle;\n",
       "    }\n",
       "\n",
       "    .dataframe tbody tr th {\n",
       "        vertical-align: top;\n",
       "    }\n",
       "\n",
       "    .dataframe thead th {\n",
       "        text-align: right;\n",
       "    }\n",
       "</style>\n",
       "<table border=\"1\" class=\"dataframe\">\n",
       "  <thead>\n",
       "    <tr style=\"text-align: right;\">\n",
       "      <th></th>\n",
       "      <th>original_id</th>\n",
       "      <th>full_text</th>\n",
       "      <th>favorite_count</th>\n",
       "      <th>retweet_count</th>\n",
       "    </tr>\n",
       "  </thead>\n",
       "  <tbody>\n",
       "    <tr>\n",
       "      <th>104991</th>\n",
       "      <td>1098049251836391424</td>\n",
       "      <td>charlotte caniggia que se limpia el orto con dólares se dio cuenta y vos que pagas la luz en cuotas no https://t.co/WykH3ezo9g</td>\n",
       "      <td>58684</td>\n",
       "      <td>20224</td>\n",
       "    </tr>\n",
       "    <tr>\n",
       "      <th>160102</th>\n",
       "      <td>973190348435533824</td>\n",
       "      <td>padres hace 10 años: TENÉ CUIDADO CON QUIEN CHATEÁS NO CREAS TODO LO QUE TE DICE LA INTERNET padres hoy: y viste que en realidad macri y cristina son amantes lo leí ayer jaja</td>\n",
       "      <td>43193</td>\n",
       "      <td>11595</td>\n",
       "    </tr>\n",
       "    <tr>\n",
       "      <th>189501</th>\n",
       "      <td>1039476200811446274</td>\n",
       "      <td>Hilo de frases de Macri que se pueden usar para cortar una relación:</td>\n",
       "      <td>40493</td>\n",
       "      <td>15900</td>\n",
       "    </tr>\n",
       "    <tr>\n",
       "      <th>194843</th>\n",
       "      <td>1068648026389004289</td>\n",
       "      <td>Macri se emocionó. Yo también. Ésta imagen no se borrará más de los ojos de los argentinos de bien. El mundo entero gritando: \"Argentina, Argentina\", en el Teatro Colón. Si se lo perdieron, vean ésto por favor. Gracias Argentina 🇦🇷👇 https://t.co/KUyFKnszOn</td>\n",
       "      <td>31293</td>\n",
       "      <td>10042</td>\n",
       "    </tr>\n",
       "    <tr>\n",
       "      <th>218222</th>\n",
       "      <td>1092942954384236544</td>\n",
       "      <td>si ustedes votaron al pelotudo de macri por qué yo no puedo votar al más pijudo https://t.co/eudzh1PmP4</td>\n",
       "      <td>26059</td>\n",
       "      <td>7874</td>\n",
       "    </tr>\n",
       "    <tr>\n",
       "      <th>2034</th>\n",
       "      <td>1100728869445922816</td>\n",
       "      <td>¿Cómo es posible que los socios de Sánchez, los de Podemos, vengan al Congreso con camisetas de “Yo con Maduro”? ¿Es que no tienen corazón? ¿No ven cómo está masacrando Maduro al pueblo venezolano?   Yo estoy con Venezuela, la democracia y la libertad 🇻🇪👇🏻 https://t.co/bocqWJR3jG</td>\n",
       "      <td>21362</td>\n",
       "      <td>13861</td>\n",
       "    </tr>\n",
       "    <tr>\n",
       "      <th>110072</th>\n",
       "      <td>1085195644367589376</td>\n",
       "      <td>Ayer en Jujuy, un paso más en la brutal persecución que sufre Milagro Sala, con una condena a medida de Macri y Gerardo Morales.  #ArgentinaSinEstadoDeDerecho https://t.co/BgnQVu16po</td>\n",
       "      <td>14065</td>\n",
       "      <td>6955</td>\n",
       "    </tr>\n",
       "    <tr>\n",
       "      <th>1596</th>\n",
       "      <td>1100697116308135937</td>\n",
       "      <td>Albert Rivera en este momento diciendo en el Congreso que ha sido un error subir el salario mínimo a 900€. Cómo se nota a qué clase social representa Ciudadanos. Mucha banderita y odio pero luego es lo de siempre: políticas contra las familias trabajadoras.</td>\n",
       "      <td>13181</td>\n",
       "      <td>7129</td>\n",
       "    </tr>\n",
       "    <tr>\n",
       "      <th>107592</th>\n",
       "      <td>1035280236320120837</td>\n",
       "      <td>No fue solo Macri. Hay otros responsables del hambre del pueblo: Lanata, Leuco, Majul, Del Moro y tantos que llenaron al pueblo de odio, hablando solo de Cristina y escondiendo el saqueo. Los hicieron votar a su victimario. Ahora quieren abrirse. son despreciables</td>\n",
       "      <td>12977</td>\n",
       "      <td>7535</td>\n",
       "    </tr>\n",
       "    <tr>\n",
       "      <th>202053</th>\n",
       "      <td>1097999667546284032</td>\n",
       "      <td>Gracias a Urtubey, Cristina Kirchner, Sergio Massa y a todo el Peronismo por recordarnos lo que son. Hoy se unieron para voltear el DNU de #ExtinciónDeDominio. Esto no es en contra de Macri, lo hacen en contra de la gente. Lo que se robaron durante décadas es lo que nos falta.</td>\n",
       "      <td>12522</td>\n",
       "      <td>7200</td>\n",
       "    </tr>\n",
       "  </tbody>\n",
       "</table>\n",
       "</div>"
      ],
      "text/plain": [
       "                original_id  \\\n",
       "104991  1098049251836391424   \n",
       "160102  973190348435533824    \n",
       "189501  1039476200811446274   \n",
       "194843  1068648026389004289   \n",
       "218222  1092942954384236544   \n",
       "2034    1100728869445922816   \n",
       "110072  1085195644367589376   \n",
       "1596    1100697116308135937   \n",
       "107592  1035280236320120837   \n",
       "202053  1097999667546284032   \n",
       "\n",
       "                                                                                                                                                                                                                                                                                       full_text  \\\n",
       "104991  charlotte caniggia que se limpia el orto con dólares se dio cuenta y vos que pagas la luz en cuotas no https://t.co/WykH3ezo9g                                                                                                                                                             \n",
       "160102  padres hace 10 años: TENÉ CUIDADO CON QUIEN CHATEÁS NO CREAS TODO LO QUE TE DICE LA INTERNET padres hoy: y viste que en realidad macri y cristina son amantes lo leí ayer jaja                                                                                                             \n",
       "189501  Hilo de frases de Macri que se pueden usar para cortar una relación:                                                                                                                                                                                                                       \n",
       "194843  Macri se emocionó. Yo también. Ésta imagen no se borrará más de los ojos de los argentinos de bien. El mundo entero gritando: \"Argentina, Argentina\", en el Teatro Colón. Si se lo perdieron, vean ésto por favor. Gracias Argentina 🇦🇷👇 https://t.co/KUyFKnszOn                           \n",
       "218222  si ustedes votaron al pelotudo de macri por qué yo no puedo votar al más pijudo https://t.co/eudzh1PmP4                                                                                                                                                                                    \n",
       "2034    ¿Cómo es posible que los socios de Sánchez, los de Podemos, vengan al Congreso con camisetas de “Yo con Maduro”? ¿Es que no tienen corazón? ¿No ven cómo está masacrando Maduro al pueblo venezolano?   Yo estoy con Venezuela, la democracia y la libertad 🇻🇪👇🏻 https://t.co/bocqWJR3jG   \n",
       "110072  Ayer en Jujuy, un paso más en la brutal persecución que sufre Milagro Sala, con una condena a medida de Macri y Gerardo Morales.  #ArgentinaSinEstadoDeDerecho https://t.co/BgnQVu16po                                                                                                     \n",
       "1596    Albert Rivera en este momento diciendo en el Congreso que ha sido un error subir el salario mínimo a 900€. Cómo se nota a qué clase social representa Ciudadanos. Mucha banderita y odio pero luego es lo de siempre: políticas contra las familias trabajadoras.                          \n",
       "107592  No fue solo Macri. Hay otros responsables del hambre del pueblo: Lanata, Leuco, Majul, Del Moro y tantos que llenaron al pueblo de odio, hablando solo de Cristina y escondiendo el saqueo. Los hicieron votar a su victimario. Ahora quieren abrirse. son despreciables                   \n",
       "202053  Gracias a Urtubey, Cristina Kirchner, Sergio Massa y a todo el Peronismo por recordarnos lo que son. Hoy se unieron para voltear el DNU de #ExtinciónDeDominio. Esto no es en contra de Macri, lo hacen en contra de la gente. Lo que se robaron durante décadas es lo que nos falta.      \n",
       "\n",
       "        favorite_count  retweet_count  \n",
       "104991  58684           20224          \n",
       "160102  43193           11595          \n",
       "189501  40493           15900          \n",
       "194843  31293           10042          \n",
       "218222  26059           7874           \n",
       "2034    21362           13861          \n",
       "110072  14065           6955           \n",
       "1596    13181           7129           \n",
       "107592  12977           7535           \n",
       "202053  12522           7200           "
      ]
     },
     "execution_count": 37,
     "metadata": {},
     "output_type": "execute_result"
    }
   ],
   "source": [
    "idx = tweets.groupby(['original_id'])['favorite_count'].transform(max) == tweets['favorite_count']\n",
    "tweets[idx][['original_id', 'full_text', 'favorite_count', 'retweet_count']].sort_values(by='favorite_count', ascending=False).head(10)"
   ]
  },
  {
   "cell_type": "markdown",
   "metadata": {},
   "source": [
    "# Nube de palabras"
   ]
  },
  {
   "cell_type": "code",
   "execution_count": 12,
   "metadata": {},
   "outputs": [],
   "source": [
    "import gensim\n",
    "import re\n",
    "\n",
    "def clean(s):\n",
    "    s = gensim.utils.deaccent(s)\n",
    "    s = s.strip().lower()\n",
    "    s = s.replace(\"rt \", \" \")\n",
    "\n",
    "    # remove mentions\n",
    "    s = re.sub(r\"@\\w+\", \" \", s)\n",
    "\n",
    "    # remove URLs\n",
    "    s = re.sub(r\"https?://t\\.co/\\w+\", \" \", s)\n",
    "    s = re.sub(\n",
    "        r\"https?://(?:[a-zA-Z]|[0-9]|[$-_@.&+]|[!*\\(\\),]|(?:%[0-9a-fA-F][0-9a-fA-F]))+\",\n",
    "        \" \", s)\n",
    "    s = re.sub(r\",\", \" \", s)\n",
    "    s = re.sub(r\"[^A-Za-z0-9ñ()\\'\\`#]\", \" \", s)\n",
    "    s = re.sub(r\"\\(\", \" \\( \", s)\n",
    "    s = re.sub(r\"\\)\", \" \\) \", s)\n",
    "    s = re.sub(r\"\\?\", \" \\? \", s)\n",
    "    s = re.sub(r\"\\s{2,}\", \" \", s)\n",
    "\n",
    "    return s"
   ]
  },
  {
   "cell_type": "code",
   "execution_count": 13,
   "metadata": {},
   "outputs": [
    {
     "name": "stderr",
     "output_type": "stream",
     "text": [
      "[nltk_data] Downloading package stopwords to\n",
      "[nltk_data]     C:\\Users\\causa\\AppData\\Roaming\\nltk_data...\n",
      "[nltk_data]   Package stopwords is already up-to-date!\n"
     ]
    }
   ],
   "source": [
    "import nltk\n",
    "nltk.download('stopwords')\n",
    "\n",
    "from nltk.corpus import stopwords\n",
    "\n",
    "def tokenize(s):\n",
    "    return [t for t in s.strip().split() if (t not in stopwords.words('spanish')\n",
    "                                             and len(t) > 1\n",
    "                                             and t[0] != '#'\n",
    "                                             and t != \"si\")]"
   ]
  },
  {
   "cell_type": "code",
   "execution_count": 14,
   "metadata": {},
   "outputs": [],
   "source": [
    "def get_all_tokens(tweets):\n",
    "    all_tokens = []\n",
    "    for tuit in tweets.text.apply(clean).unique():\n",
    "        all_tokens += tokenize(tuit) + ['.']\n",
    "    return all_tokens"
   ]
  },
  {
   "cell_type": "code",
   "execution_count": 15,
   "metadata": {},
   "outputs": [],
   "source": [
    "from wordcloud import WordCloud\n",
    "import matplotlib.pyplot as plt"
   ]
  },
  {
   "cell_type": "code",
   "execution_count": 16,
   "metadata": {},
   "outputs": [],
   "source": [
    "all_tokens = get_all_tokens(tweets.sample(5000))"
   ]
  },
  {
   "cell_type": "code",
   "execution_count": 17,
   "metadata": {},
   "outputs": [
    {
     "data": {
      "text/plain": [
       "(-0.5, 799.5, 399.5, -0.5)"
      ]
     },
     "execution_count": 17,
     "metadata": {},
     "output_type": "execute_result"
    },
    {
     "data": {
      "image/png": "[encoded data removed]",
      "text/plain": [
       "<Figure size 432x288 with 1 Axes>"
      ]
     },
     "metadata": {
      "needs_background": "light"
     },
     "output_type": "display_data"
    }
   ],
   "source": [
    "wordcloud = WordCloud(normalize_plurals=False, colormap='Blues', max_words=20, width=800, height=400,\n",
    "                      min_font_size=12, background_color='white').generate(' '.join(all_tokens))\n",
    "\n",
    "plt.imshow(wordcloud, interpolation='bilinear', aspect='auto')\n",
    "plt.axis(\"off\")"
   ]
  },
  {
   "cell_type": "markdown",
   "metadata": {},
   "source": [
    "# Top hashtags por volumen de tuits"
   ]
  },
  {
   "cell_type": "code",
   "execution_count": 18,
   "metadata": {},
   "outputs": [],
   "source": [
    "from collections import Counter"
   ]
  },
  {
   "cell_type": "code",
   "execution_count": 19,
   "metadata": {},
   "outputs": [],
   "source": [
    "ht_counts = Counter()"
   ]
  },
  {
   "cell_type": "code",
   "execution_count": 20,
   "metadata": {},
   "outputs": [],
   "source": [
    "for hts in tweets[~tweets.hts.isna()].hts.values:\n",
    "    for ht in hts.split():\n",
    "        ht_counts[ht] += 1"
   ]
  },
  {
   "cell_type": "code",
   "execution_count": 21,
   "metadata": {},
   "outputs": [],
   "source": [
    "top10_hts = ht_counts.most_common(10)"
   ]
  },
  {
   "cell_type": "code",
   "execution_count": 22,
   "metadata": {},
   "outputs": [
    {
     "data": {
      "text/plain": [
       "<BarContainer object of 10 artists>"
      ]
     },
     "execution_count": 22,
     "metadata": {},
     "output_type": "execute_result"
    },
    {
     "data": {
      "image/png": "[encoded data removed]",
      "text/plain": [
       "<Figure size 1296x576 with 1 Axes>"
      ]
     },
     "metadata": {
      "needs_background": "light"
     },
     "output_type": "display_data"
    }
   ],
   "source": [
    "fig, ax = plt.subplots(figsize=(18,8))\n",
    "plt.bar(*zip(*top10_hts))"
   ]
  },
  {
   "cell_type": "code",
   "execution_count": 77,
   "metadata": {},
   "outputs": [],
   "source": [
    "# TODO: arreglar tamaño de figura para que se lean los hashtags"
   ]
  },
  {
   "cell_type": "code",
   "execution_count": 23,
   "metadata": {},
   "outputs": [
    {
     "data": {
      "text/plain": [
       "[('SesionesOrdinarias', 9378),\n",
       " ('Congreso', 3213),\n",
       " ('HayOtroCamino', 2825),\n",
       " ('MacriMiente', 1866),\n",
       " ('AsambleaLegislativa', 1175),\n",
       " ('Macri', 740),\n",
       " ('AperturaSesiones2019', 575),\n",
       " ('BuenViernes', 451),\n",
       " ('sesionesordinarias', 402),\n",
       " ('MacriEnElCongreso', 391)]"
      ]
     },
     "execution_count": 23,
     "metadata": {},
     "output_type": "execute_result"
    }
   ],
   "source": [
    "top10_hts"
   ]
  },
  {
   "cell_type": "markdown",
   "metadata": {},
   "source": [
    "# Volumen hashtag por hora"
   ]
  },
  {
   "cell_type": "code",
   "execution_count": 28,
   "metadata": {},
   "outputs": [
    {
     "data": {
      "text/plain": [
       "<matplotlib.axes._subplots.AxesSubplot at 0x13d720e1c50>"
      ]
     },
     "execution_count": 28,
     "metadata": {},
     "output_type": "execute_result"
    },
    {
     "data": {
      "image/png": "[encoded data removed]",
      "text/plain": [
       "<Figure size 1080x432 with 1 Axes>"
      ]
     },
     "metadata": {
      "needs_background": "light"
     },
     "output_type": "display_data"
    }
   ],
   "source": [
    "hts_hora = tweets.groupby(tweets.dia_hora)[\"hts\"].count()\n",
    "hts_hora.plot(figsize=(15,6), fontsize=8)"
   ]
  },
  {
   "cell_type": "code",
   "execution_count": null,
   "metadata": {},
   "outputs": [],
   "source": []
  },
  {
   "cell_type": "code",
   "execution_count": null,
   "metadata": {},
   "outputs": [],
   "source": []
  }
 ],
 "metadata": {
  "colab": {
   "default_view": {},
   "name": "1.0-análisis-tweets-mongo.ipynb",
   "provenance": [],
   "version": "0.3.2",
   "views": {}
  },
  "kernelspec": {
   "display_name": "Python 3",
   "language": "python",
   "name": "python3"
  },
  "language_info": {
   "codemirror_mode": {
    "name": "ipython",
    "version": 3
   },
   "file_extension": ".py",
   "mimetype": "text/x-python",
   "name": "python",
   "nbconvert_exporter": "python",
   "pygments_lexer": "ipython3",
   "version": "3.7.3"
  }
 },
 "nbformat": 4,
 "nbformat_minor": 1
}
